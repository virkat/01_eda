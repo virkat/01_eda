{
 "cells": [
  {
   "cell_type": "raw",
   "metadata": {
    "vscode": {
     "languageId": "raw"
    }
   },
   "source": [
    "---\n",
    "title: \"Types of Data\"\n",
    "author: \"Asad Raza Virk\"\n",
    "date: \"2024.09.18\"\n",
    "format: \n",
    "  pdf:\n",
    "    toc: true\n",
    "    toc-depth: 2\n",
    "    number-sections: true\n",
    "    fig-width: 6\n",
    "    fig-height: 4\n",
    "    fig-caption: true\n",
    "    header-includes:\n",
    "      - \\usepackage{caption}\n",
    "      - \\captionsetup{font=small,labelfont=bf}\n",
    "      - \\usepackage{fancyhdr}\n",
    "      - \\pagestyle{fancy}\n",
    "      - \\fancyhead[L]{Types of Data}\n",
    "      - \\fancyhead[R]{\\thepage}\n",
    "      - \\fancyfoot[C]{Prepared by Asad Raza Virk}\n",
    "      - \\usepackage{booktabs}\n",
    "      - \\usepackage{graphicx}\n",
    "      - \\usepackage{hyperref}\n",
    "    geometry: \"left=1in, right=1in, top=1in, bottom=1in\"\n",
    "    fontfamily: times\n",
    "    fontsize: 11pt\n",
    "    linestretch: 1.5\n",
    "    highlight-style: tango\n",
    "---\n",
    "\n"
   ]
  },
  {
   "cell_type": "markdown",
   "metadata": {},
   "source": [
    "# Types of Data \n",
    "The Types of Data can be broadly categorized into two main types: Qualitative and Quantitative. Each type has subcategories that further define how the data can be used and analyzed. Understanding the types of data is important for choosing appropriate data analysis methods and statistical techniques.\n",
    "\n",
    "## Qualitative Data (Categorical Data)\n",
    "- **Definition**: \n",
    "    Qualitative data describes attributes or characteristics. It is not numerical and is used to classify objects or individuals into categories.\n",
    "- **Subtypes**:\n",
    "    1. **Nominal Data**: \n",
    "        - Data that represents names, labels, or categories with no inherent order.\n",
    "        - Examples: Gender (Male, Female), Hair color (Blonde, Brown, Black), Types of fruits (Apple, Orange, Banana).\n",
    "    2. **Ordinal Data**: \n",
    "        - Data that represents categories with a meaningful order, but the intervals between the categories are not equal.\n",
    "        - Examples: Education level (High school, Bachelor’s, Master’s), Customer satisfaction ratings (Satisfied, Neutral, Unsatisfied).\n",
    "- **Characteristics of Qualitative Data**:\n",
    "    - Cannot be measured but can be observed and recorded.\n",
    "    - Data is usually classified into categories.\n",
    "    - Can be represented in bar charts, pie charts, etc.\n",
    "- **Common Statistical Methods:**\n",
    "    - Mode\n",
    "    - Frequency analysis\n",
    "    - Chi-square test\n",
    "\n",
    "\n",
    "## Quantitative Data (Numerical Data)\n",
    "- **Definition**: \n",
    "    Quantitative data is numerical and can be measured. It describes quantities and can be used for mathematical computations.\n",
    "- **Subtypes**:\n",
    "    1. **Discrete Data**: \n",
    "        - Data that consists of whole numbers. It is countable and finite.\n",
    "        - Examples: Number of students in a class, number of cars in a parking lot, number of products sold.\n",
    "    2. **Continuous Data**: \n",
    "        - Data that can take any value within a range. It is measurable and often involves decimals or fractions.\n",
    "        - Examples: Height, weight, temperature, time, distance.\n",
    "- **Characteristics of Quantitative Data**:\n",
    "    - Can be measured and written down as numbers.\n",
    "    - Has units of measurement (e.g., meters, kilograms, seconds).\n",
    "    - Can be represented in line graphs, histograms, scatter plots, etc.\n",
    "- **Common Statistical Methods**:\n",
    "    - Mean, median, mode\n",
    "    - Standard deviation\n",
    "    - Correlation and regression\n",
    "    - ANOVA (Analysis of Variance)\n",
    "\n",
    "## Summary of Data Types:\n",
    "The following table summarizes the types of data, their subcategories, and key characteristics:\n",
    "![Data Types Summary Table](00_3_types_of_data.PNG)\n",
    "\n",
    "## Key Differences Between Qualitative and Quantitative Data:\n",
    "- Qualitative Data is descriptive and categorizes objects or phenomena, while Quantitative Data is numerical and represents measurements.\n",
    "- Qualitative Data is typically represented by words or labels, while Quantitative Data is represented by numbers.\n",
    "- Qualitative Data is analyzed using modes and frequencies, whereas Quantitative Data is analyzed using statistical techniques like averages and variances.\n",
    "\n",
    "\n",
    "Understanding the types of data helps in selecting the correct statistical analysis and visualization methods, which ensures that insights derived from the data are valid and meaningful."
   ]
  }
 ],
 "metadata": {
  "kernelspec": {
   "display_name": "Python 3",
   "language": "python",
   "name": "python3"
  },
  "language_info": {
   "name": "python",
   "version": "3.12.3"
  }
 },
 "nbformat": 4,
 "nbformat_minor": 2
}
