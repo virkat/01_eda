{
 "cells": [
  {
   "cell_type": "raw",
   "metadata": {
    "vscode": {
     "languageId": "raw"
    }
   },
   "source": [
    "---\n",
    "title: \"Exploring the Data Distribution\"\n",
    "author: \"Asad Raza Virk\"\n",
    "date: \"2024.09.18\"\n",
    "format:\n",
    "    pdf: \n",
    "     documentclass: report\n",
    "     papersize: a4\n",
    "---\n"
   ]
  },
  {
   "cell_type": "markdown",
   "metadata": {},
   "source": [
    "# Exploring the Data Distribution"
   ]
  },
  {
   "cell_type": "markdown",
   "metadata": {},
   "source": [
    "Each of the estimates sums up the data in a single number to describe\n",
    "the location or variability of the data.\\\n",
    "It is also useful to explore how the data is distributed overall.\n"
   ]
  },
  {
   "cell_type": "markdown",
   "metadata": {},
   "source": [
    "## Key Terms for Exploring the Distribution\n",
    "\n",
    "- Boxplot\n",
    "    A plot introduced by Tukey as a quick way to visualize the distribution of data.\n",
    "        Synonym\n",
    "            box and whiskers plot\n",
    "- Frequency table\n",
    "    A tally of the count of numeric data values that fall into a set of intervals (bins).\n",
    "- Histogram\n",
    "    A plot of the frequency table with the bins on the x-axis and the count (or pro‐\n",
    "    portion) on the y-axis. While visually similar, bar charts should not be confused with histograms.\n",
    "- Density plot\n",
    "    A smoothed version of the histogram, often based on a kernel density estimate.\n"
   ]
  },
  {
   "cell_type": "code",
   "execution_count": 7,
   "metadata": {},
   "outputs": [],
   "source": [
    "# import libraries\n",
    "import pandas as pd\n",
    "import numpy as np\n",
    "import matplotlib as plt \n",
    "import seaborn as sns\n",
    "from tabulate import tabulate\n"
   ]
  },
  {
   "cell_type": "code",
   "execution_count": 2,
   "metadata": {},
   "outputs": [],
   "source": [
    "# laod data\n",
    "df = pd.read_csv('./data_sets/insurance.csv')"
   ]
  },
  {
   "cell_type": "code",
   "execution_count": 3,
   "metadata": {},
   "outputs": [
    {
     "data": {
      "text/html": [
       "<div>\n",
       "<style scoped>\n",
       "    .dataframe tbody tr th:only-of-type {\n",
       "        vertical-align: middle;\n",
       "    }\n",
       "\n",
       "    .dataframe tbody tr th {\n",
       "        vertical-align: top;\n",
       "    }\n",
       "\n",
       "    .dataframe thead th {\n",
       "        text-align: right;\n",
       "    }\n",
       "</style>\n",
       "<table border=\"1\" class=\"dataframe\">\n",
       "  <thead>\n",
       "    <tr style=\"text-align: right;\">\n",
       "      <th></th>\n",
       "      <th>age</th>\n",
       "      <th>sex</th>\n",
       "      <th>bmi</th>\n",
       "      <th>children</th>\n",
       "      <th>smoker</th>\n",
       "      <th>region</th>\n",
       "      <th>charges</th>\n",
       "    </tr>\n",
       "  </thead>\n",
       "  <tbody>\n",
       "    <tr>\n",
       "      <th>0</th>\n",
       "      <td>19</td>\n",
       "      <td>female</td>\n",
       "      <td>27.900</td>\n",
       "      <td>0</td>\n",
       "      <td>yes</td>\n",
       "      <td>southwest</td>\n",
       "      <td>16884.92400</td>\n",
       "    </tr>\n",
       "    <tr>\n",
       "      <th>1</th>\n",
       "      <td>18</td>\n",
       "      <td>male</td>\n",
       "      <td>33.770</td>\n",
       "      <td>1</td>\n",
       "      <td>no</td>\n",
       "      <td>southeast</td>\n",
       "      <td>1725.55230</td>\n",
       "    </tr>\n",
       "    <tr>\n",
       "      <th>2</th>\n",
       "      <td>28</td>\n",
       "      <td>male</td>\n",
       "      <td>33.000</td>\n",
       "      <td>3</td>\n",
       "      <td>no</td>\n",
       "      <td>southeast</td>\n",
       "      <td>4449.46200</td>\n",
       "    </tr>\n",
       "    <tr>\n",
       "      <th>3</th>\n",
       "      <td>33</td>\n",
       "      <td>male</td>\n",
       "      <td>22.705</td>\n",
       "      <td>0</td>\n",
       "      <td>no</td>\n",
       "      <td>northwest</td>\n",
       "      <td>21984.47061</td>\n",
       "    </tr>\n",
       "    <tr>\n",
       "      <th>4</th>\n",
       "      <td>32</td>\n",
       "      <td>male</td>\n",
       "      <td>28.880</td>\n",
       "      <td>0</td>\n",
       "      <td>no</td>\n",
       "      <td>northwest</td>\n",
       "      <td>3866.85520</td>\n",
       "    </tr>\n",
       "  </tbody>\n",
       "</table>\n",
       "</div>"
      ],
      "text/plain": [
       "   age     sex     bmi  children smoker     region      charges\n",
       "0   19  female  27.900         0    yes  southwest  16884.92400\n",
       "1   18    male  33.770         1     no  southeast   1725.55230\n",
       "2   28    male  33.000         3     no  southeast   4449.46200\n",
       "3   33    male  22.705         0     no  northwest  21984.47061\n",
       "4   32    male  28.880         0     no  northwest   3866.85520"
      ]
     },
     "execution_count": 3,
     "metadata": {},
     "output_type": "execute_result"
    }
   ],
   "source": [
    "df.head()"
   ]
  },
  {
   "cell_type": "markdown",
   "metadata": {},
   "source": [
    "## Percentiles and Boxplots\n",
    "Percentiles can be used to measure the spread of the data. Percentiles are also valuable for summarizing the entire distribution. It is common to report the quartiles (25th, 50th, and 75th per‐centiles) and the deciles (the 10th, 20th, …, 90th percentiles). Percentiles are especially valuable for summarizing the tails (the outer range) of the distribution. Popular culture has coined the term one-percenters to refer to the people in the top 99th percentile of wealth."
   ]
  },
  {
   "cell_type": "code",
   "execution_count": 5,
   "metadata": {},
   "outputs": [
    {
     "name": "stdout",
     "output_type": "stream",
     "text": [
      "   Quantile         Value\n",
      "0     0.005   1145.110878\n",
      "1     0.100   2346.533615\n",
      "2     0.150   3171.836605\n",
      "3     0.250   4740.287150\n",
      "4     0.500   9382.033000\n",
      "5     0.750  16639.912515\n",
      "6     0.850  24990.166996\n",
      "7     0.900  34831.719700\n",
      "8     0.950  41181.827787\n"
     ]
    }
   ],
   "source": [
    "# get the 0.005,0.1,0.15,0.25,0.5,0.75,0.85,0.9,0.95 quantiles of df['charges']\n",
    "df['charges'].quantile([0.005,0.1,0.15,0.25,0.5,0.75,0.85,0.9,0.95])\n",
    "\n",
    "# print in tabulated form quantiles of df['charges'] with columns \n",
    "# as ['Quantile','Value']\n",
    "quantiles = df['charges'].quantile([0.005,0.1,0.15,0.25,0.5,0.75,0.85,0.9,0.95])\n",
    "quantiles = pd.DataFrame(quantiles)\n",
    "quantiles.reset_index(inplace=True)\n",
    "quantiles.columns = ['Quantile','Value']\n",
    "print(quantiles)\n"
   ]
  },
  {
   "cell_type": "code",
   "execution_count": 11,
   "metadata": {},
   "outputs": [
    {
     "name": "stdout",
     "output_type": "stream",
     "text": [
      "╒════╤════════════╤══════════╕\n",
      "│    │   Quantile │    Value │\n",
      "╞════╪════════════╪══════════╡\n",
      "│  0 │      0.005 │  1145.11 │\n",
      "├────┼────────────┼──────────┤\n",
      "│  1 │      0.1   │  2346.53 │\n",
      "├────┼────────────┼──────────┤\n",
      "│  2 │      0.15  │  3171.84 │\n",
      "├────┼────────────┼──────────┤\n",
      "│  3 │      0.25  │  4740.29 │\n",
      "├────┼────────────┼──────────┤\n",
      "│  4 │      0.5   │  9382.03 │\n",
      "├────┼────────────┼──────────┤\n",
      "│  5 │      0.75  │ 16639.9  │\n",
      "├────┼────────────┼──────────┤\n",
      "│  6 │      0.85  │ 24990.2  │\n",
      "├────┼────────────┼──────────┤\n",
      "│  7 │      0.9   │ 34831.7  │\n",
      "├────┼────────────┼──────────┤\n",
      "│  8 │      0.95  │ 41181.8  │\n",
      "╘════╧════════════╧══════════╛\n"
     ]
    }
   ],
   "source": [
    "# print the table of quantiles in tabulated form with tabulate library\n",
    "print(tabulate(quantiles, headers='keys', tablefmt='fancy_grid'))"
   ]
  },
  {
   "cell_type": "markdown",
   "metadata": {},
   "source": [
    "Boxplots, introduced by Tukey [Tukey-1977], are based on percentiles and give a\n",
    "quick way to visualize the distribution of data"
   ]
  },
  {
   "cell_type": "code",
   "execution_count": 12,
   "metadata": {},
   "outputs": [
    {
     "data": {
      "text/plain": [
       "<Axes: ylabel='charges'>"
      ]
     },
     "execution_count": 12,
     "metadata": {},
     "output_type": "execute_result"
    },
    {
     "data": {
      "image/png": "[encoded data removed]",
      "text/plain": [
       "<Figure size 640x480 with 1 Axes>"
      ]
     },
     "metadata": {},
     "output_type": "display_data"
    }
   ],
   "source": [
    "# plot boxplot of df['charges']\n",
    "sns.boxplot(df['charges'])"
   ]
  },
  {
   "cell_type": "code",
   "execution_count": 13,
   "metadata": {},
   "outputs": [
    {
     "data": {
      "text/plain": [
       "<Axes: ylabel='age'>"
      ]
     },
     "execution_count": 13,
     "metadata": {},
     "output_type": "execute_result"
    },
    {
     "data": {
      "image/png": "[encoded data removed]",
      "text/plain": [
       "<Figure size 640x480 with 1 Axes>"
      ]
     },
     "metadata": {},
     "output_type": "display_data"
    }
   ],
   "source": [
    "# plot boxplot of df['age'] \n",
    "sns.boxplot(df['age'])"
   ]
  },
  {
   "cell_type": "code",
   "execution_count": 14,
   "metadata": {},
   "outputs": [
    {
     "data": {
      "text/plain": [
       "<Axes: ylabel='bmi'>"
      ]
     },
     "execution_count": 14,
     "metadata": {},
     "output_type": "execute_result"
    },
    {
     "data": {
      "image/png": "[encoded data removed]",
      "text/plain": [
       "<Figure size 640x480 with 1 Axes>"
      ]
     },
     "metadata": {},
     "output_type": "display_data"
    }
   ],
   "source": [
    "# plot boxplot of df['bmi']\n",
    "sns.boxplot(df['bmi'])"
   ]
  },
  {
   "cell_type": "code",
   "execution_count": 15,
   "metadata": {},
   "outputs": [
    {
     "data": {
      "text/plain": [
       "<Axes: >"
      ]
     },
     "execution_count": 15,
     "metadata": {},
     "output_type": "execute_result"
    },
    {
     "data": {
      "image/png": "[encoded data removed]",
      "text/plain": [
       "<Figure size 640x480 with 1 Axes>"
      ]
     },
     "metadata": {},
     "output_type": "display_data"
    }
   ],
   "source": [
    "# plot boxplots of df['charges] and df['age']  and df ['bmi] in the same plot\n",
    "sns.boxplot(data=df[['charges','age','bmi']])"
   ]
  },
  {
   "cell_type": "markdown",
   "metadata": {},
   "source": [
    "- The top and bottom of the box are the 75th and 25th percentiles, respectively\n",
    "- The median is shown by the horizontal line in the box\n",
    "- The whiskers are the two lines outside the box that extend to the highest and lowest observations that are within 1.5 * IQR from the upper and lower quartiles\n",
    "- Any points outside this range are plotted as individual points\n",
    "- There are many variations of a boxplot\n",
    "- By default, the R function extends the whiskers to the furthest point beyond the box, except that it will not go beyond 1.5 times the IQR. Matplotlib uses the same implementation; other software may use a different rule.\n",
    "- Any data outside of the whiskers is plotted as single points or circles (often considered outliers).\n",
    "- Pandas provides a number of basic exploratory plots for data frame; one of them is\n",
    "boxplots\n"
   ]
  },
  {
   "cell_type": "markdown",
   "metadata": {},
   "source": [
    "## Frequency Tables and Histograms\n",
    "- A frequency table of a variable divides up the variable range into equally spaced segments and tells us how many values fall within each segment. \n",
    "- The function pandas.cut creates a series that maps the values into the segments.\n",
    "Using the method value_counts, we get the frequency table"
   ]
  },
  {
   "cell_type": "code",
   "execution_count": 16,
   "metadata": {},
   "outputs": [
    {
     "data": {
      "text/plain": [
       "region\n",
       "southeast    364\n",
       "southwest    325\n",
       "northwest    325\n",
       "northeast    324\n",
       "Name: count, dtype: int64"
      ]
     },
     "execution_count": 16,
     "metadata": {},
     "output_type": "execute_result"
    }
   ],
   "source": [
    "# create frequency table of df['region']\n",
    "df['region'].value_counts()"
   ]
  },
  {
   "cell_type": "code",
   "execution_count": 18,
   "metadata": {},
   "outputs": [
    {
     "name": "stdout",
     "output_type": "stream",
     "text": [
      "╒════╤═══════════╤═════════╕\n",
      "│    │ Region    │   Count │\n",
      "╞════╪═══════════╪═════════╡\n",
      "│  0 │ southeast │     364 │\n",
      "├────┼───────────┼─────────┤\n",
      "│  1 │ southwest │     325 │\n",
      "├────┼───────────┼─────────┤\n",
      "│  2 │ northwest │     325 │\n",
      "├────┼───────────┼─────────┤\n",
      "│  3 │ northeast │     324 │\n",
      "╘════╧═══════════╧═════════╛\n"
     ]
    }
   ],
   "source": [
    "\n",
    "\n"
   ]
  },
  {
   "cell_type": "code",
   "execution_count": 20,
   "metadata": {},
   "outputs": [
    {
     "data": {
      "text/html": [
       "<div style='text-align: center;'>╒════╤═══════════╤═════════╕<br>│    │ Region    │   Count │<br>╞════╪═══════════╪═════════╡<br>│  0 │ southeast │     364 │<br>├────┼───────────┼─────────┤<br>│  1 │ southwest │     325 │<br>├────┼───────────┼─────────┤<br>│  2 │ northwest │     325 │<br>├────┼───────────┼─────────┤<br>│  3 │ northeast │     324 │<br>╘════╧═══════════╧═════════╛</div>"
      ],
      "text/plain": [
       "<IPython.core.display.HTML object>"
      ]
     },
     "metadata": {},
     "output_type": "display_data"
    }
   ],
   "source": [
    "# Alignment of table in centre\n",
    "from IPython.display import display, HTML\n",
    "\n",
    "# Create frequency table of df['region']\n",
    "region = df['region'].value_counts()\n",
    "region = pd.DataFrame(region)\n",
    "region.reset_index(inplace=True)\n",
    "region.columns = ['Region', 'Count']\n",
    "\n",
    "# Generate the table in fancy_grid format\n",
    "table = tabulate(region, headers='keys', tablefmt='fancy_grid')\n",
    "\n",
    "# Display the table centered using HTML\n",
    "display(HTML(f\"<div style='text-align: center;'>{table.replace('\\n', '<br>')}</div>\"))"
   ]
  },
  {
   "cell_type": "code",
   "execution_count": 22,
   "metadata": {},
   "outputs": [
    {
     "name": "stdout",
     "output_type": "stream",
     "text": [
      "╒════╤════════════════╤═════════╕\n",
      "│    │ Charges        │   Count │\n",
      "╞════╪════════════════╪═════════╡\n",
      "│  0 │ (0, 10000]     │     712 │\n",
      "├────┼────────────────┼─────────┤\n",
      "│  1 │ (10000, 20000] │     353 │\n",
      "├────┼────────────────┼─────────┤\n",
      "│  2 │ (20000, 30000] │     111 │\n",
      "├────┼────────────────┼─────────┤\n",
      "│  3 │ (30000, 40000] │      83 │\n",
      "├────┼────────────────┼─────────┤\n",
      "│  4 │ (40000, 50000] │      72 │\n",
      "╘════╧════════════════╧═════════╛\n"
     ]
    }
   ],
   "source": [
    "# create frequency table of df['charges'] by maping bins\n",
    "bins = [0,10000,20000,30000,40000,50000]\n",
    "df['charges_bins'] = pd.cut(df['charges'], bins)\n",
    "charges_bins = df['charges_bins'].value_counts()\n",
    "charges_bins = pd.DataFrame(charges_bins)\n",
    "charges_bins.reset_index(inplace=True)\n",
    "charges_bins.columns = ['Charges', 'Count']\n",
    "print(tabulate(charges_bins, headers='keys', tablefmt='fancy_grid'))\n"
   ]
  },
  {
   "cell_type": "markdown",
   "metadata": {},
   "source": [
    "> It is important to include the empty bins; the fact that there are no values\n",
    ">in those bins is useful information. It can also be useful to experiment with different bin sizes. If they are too large, important features of the distribution can be obscured.If they are too small, the result is too granular, and the ability to see the bigger picture is lost."
   ]
  },
  {
   "cell_type": "markdown",
   "metadata": {},
   "source": [
    "> Both frequency tables and percentiles summarize the data by creat‐ing bins. In general, quartiles and deciles will have the same count in each bin (equal-count bins), but the bin sizes will be different. The frequency table, by contrast, will have different counts in the bins (equal-size bins), and the bin sizes will be the same."
   ]
  },
  {
   "cell_type": "markdown",
   "metadata": {},
   "source": [
    "A histogram is a way to visualize a frequency table, with bins on the x-axis and the\n",
    "data count on the y-axis.\n",
    "Pandas supports histograms for data frames with the DataFrame.plot.hist method.\n",
    "Use the keyword argument bins to define the number of bins. The various plot meth‐\n",
    "ods return an axis object that allows further fine-tuning of the visualization using\n",
    "Matplotlib:"
   ]
  },
  {
   "cell_type": "code",
   "execution_count": 24,
   "metadata": {},
   "outputs": [
    {
     "data": {
      "text/plain": [
       "<Axes: xlabel='charges', ylabel='Count'>"
      ]
     },
     "execution_count": 24,
     "metadata": {},
     "output_type": "execute_result"
    },
    {
     "data": {
      "image/png": "[encoded data removed]",
      "text/plain": [
       "<Figure size 640x480 with 1 Axes>"
      ]
     },
     "metadata": {},
     "output_type": "display_data"
    }
   ],
   "source": [
    "# plot the histogram\n",
    "sns.histplot(df['charges'], bins=5)\n",
    "\n"
   ]
  },
  {
   "cell_type": "markdown",
   "metadata": {},
   "source": [
    "Histograms are plotted such that:\n",
    "\n",
    "• Empty bins are included in the graph.\n",
    "\n",
    "• Bins are of equal width.\n",
    "\n",
    "• The number of bins (or, equivalently, bin size) is up to the user.\n",
    "\n",
    "• Bars are contiguous—no empty space shows between bars, unless there is an\n",
    "empty bin."
   ]
  },
  {
   "cell_type": "markdown",
   "metadata": {},
   "source": [
    "> Statistical Moments\n",
    "> In statistical theory, _location_ and _variability_ are referred to as the first and second moments of a **distribution.** The third and fourth moments are called _skewness_ and _kurtosis_. Skewness refers to whether the data is skewed to larger or smaller values, and kurtosis indicates the propensity of the data to have extreme values. Generally, metrics are not used to measure skewness and kurtosis; instead, these are discovered through visual displays"
   ]
  },
  {
   "cell_type": "markdown",
   "metadata": {},
   "source": [
    "## Density Plots and  Estimates\n",
    "- Related to the histogram is a density plot, which shows the distribution of data values as a continuous line.\n",
    "- A density plot can be thought of as a smoothed histogram, although it is typically computed directly from the data through a kernel density estimate \n",
    "- pandas provides the density method to create a density plot. Use the argument\n",
    "bw_method to control the smoothness of the density curve\n"
   ]
  },
  {
   "cell_type": "code",
   "execution_count": 26,
   "metadata": {},
   "outputs": [
    {
     "data": {
      "text/plain": [
       "<Axes: xlabel='charges', ylabel='Density'>"
      ]
     },
     "execution_count": 26,
     "metadata": {},
     "output_type": "execute_result"
    },
    {
     "data": {
      "image/png": "[encoded data removed]",
      "text/plain": [
       "<Figure size 640x480 with 1 Axes>"
      ]
     },
     "metadata": {},
     "output_type": "display_data"
    }
   ],
   "source": [
    "# plot a density plot of df['charges']\n",
    "sns.kdeplot(df['charges'], fill=True)"
   ]
  },
  {
   "cell_type": "markdown",
   "metadata": {},
   "source": [
    "A key distinction from the histogram is the scale of the y-axis: a density plot corresponds to plotting the histogram as a proportion rather than counts. Note that the total area under the density curve = 1, and instead of counts in bins you calculate areas under the curve between any two points on the x-axis, which correspond to the proportion of the distribution lying between those two points"
   ]
  },
  {
   "cell_type": "markdown",
   "metadata": {},
   "source": [
    "> Density Estimation\n",
    "\n",
    "> Density estimation is a rich topic with a long history in statistical literature. The density estimation methods in pandas and scikit-learn also offer good implementations. For many data science problems, there is no need to worry about the various types of density estimates; it suffices to use the base functions."
   ]
  },
  {
   "cell_type": "markdown",
   "metadata": {},
   "source": [
    "## Key Ideas\n",
    "- A frequency histogram plots frequency counts on the y-axis and variable values\n",
    "on the x-axis; it gives a sense of the distribution of the data at a glance.\n",
    "- A frequency table is a tabular version of the frequency counts found in a\n",
    "histogram.\n",
    "- A boxplot—with the top and bottom of the box at the 75th and 25th percentiles,\n",
    "respectively—also gives a quick sense of the distribution of the data; it is often\n",
    "used in side-by-side displays to compare distributions.\n",
    "- A density plot is a smoothed version of a histogram; it requires a function to esti‐\n",
    "mate a plot based on the data (multiple estimates are possible, of course)."
   ]
  },
  {
   "cell_type": "markdown",
   "metadata": {},
   "source": []
  }
 ],
 "metadata": {
  "kernelspec": {
   "display_name": "Python 3",
   "language": "python",
   "name": "python3"
  },
  "language_info": {
   "codemirror_mode": {
    "name": "ipython",
    "version": 3
   },
   "file_extension": ".py",
   "mimetype": "text/x-python",
   "name": "python",
   "nbconvert_exporter": "python",
   "pygments_lexer": "ipython3",
   "version": "3.12.3"
  }
 },
 "nbformat": 4,
 "nbformat_minor": 2
}
